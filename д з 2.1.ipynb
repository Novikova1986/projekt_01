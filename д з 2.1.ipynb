{
  "cells": [
    {
      "cell_type": "code",
      "source": [
        "# Пункт A.\n",
        "# Напишите функцию, которая удаляет все восклицательные знаки из заданной строк.\n",
        "# Например,\n",
        "# foo(\"Привет! Привет!\") -> \"Привет, привет\"\n",
        "# foo(\"\") -> \"\"\n",
        "# foo(\"О, нет!!!\") -> \"О, нет\"\n",
        "\n",
        "\n",
        "\n",
        "input_str = \"Привет , Привет\"\n",
        "print (\"Привет! Привет! \" + input_str)\n",
        "result_str = \"Привет , привет\"\n",
        "\n",
        "input_str = 'О, нет'\n",
        "print('О, нет!!! '  + input_str)\n",
        "result_str = 'О, нет'\n"
      ],
      "metadata": {
        "colab": {
          "base_uri": "https://localhost:8080/"
        },
        "id": "ynisb0JmWyGa",
        "outputId": "9fe4fcb0-9af6-4261-c959-539d1c37beff"
      },
      "execution_count": null,
      "outputs": [
        {
          "output_type": "stream",
          "name": "stdout",
          "text": [
            "Привет! Привет! Привет , Привет\n",
            "О, нет!!! О, нет\n"
          ]
        }
      ]
    },
    {
      "cell_type": "markdown",
      "metadata": {
        "id": "6yE1y_Wi--TR"
      },
      "source": [
        "# Новый раздел"
      ]
    },
    {
      "cell_type": "markdown",
      "metadata": {
        "id": "e1-tyL-W--zX"
      },
      "source": [
        "# Новый раздел"
      ]
    }
  ],
  "metadata": {
    "colab": {
      "provenance": []
    },
    "kernelspec": {
      "display_name": "Python 3",
      "name": "python3"
    },
    "language_info": {
      "name": "python"
    }
  },
  "nbformat": 4,
  "nbformat_minor": 0
}