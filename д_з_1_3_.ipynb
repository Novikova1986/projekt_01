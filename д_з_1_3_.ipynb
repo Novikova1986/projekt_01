{
  "cells": [
    {
      "cell_type": "code",
      "execution_count": 3,
      "metadata": {
        "colab": {
          "base_uri": "https://localhost:8080/"
        },
        "id": "vjFaj4ebJzmZ",
        "outputId": "0a166112-5cbd-4b52-8c5a-2bd91040cc93"
      },
      "outputs": [
        {
          "name": "stdout",
          "output_type": "stream",
          "text": [
            "Вы ввели 13\n",
            "Вы ввели некорректное число. Введите число от 1 до 12.\n"
          ]
        }
      ],
      "source": [
        "user_input = input(\"Введите, пожалуйста, номер месяца: \")\n",
        "month = int(user_input)\n",
        "print('Вы ввели', month)\n",
        "\n",
        "if 0 < month < 13:\n",
        "    if month in (1, 3, 5, 7, 8, 10, 12):\n",
        "        print('в этом месяце', 31, 'день')\n",
        "    elif month in (4, 6, 9, 11):\n",
        "        print('в этом месяце', 30, 'дней')\n",
        "    elif month == 2:\n",
        "        print('в этом месяце', 28, 'дней')\n",
        "else:\n",
        "    print('Вы ввели некорректное число. Введите число от 1 до 12.')"
      ]
    }
  ],
  "metadata": {
    "colab": {
      "provenance": []
    },
    "kernelspec": {
      "display_name": "Python 3",
      "name": "python3"
    },
    "language_info": {
      "codemirror_mode": {
        "name": "ipython",
        "version": 3
      },
      "file_extension": ".py",
      "mimetype": "text/x-python",
      "name": "python",
      "nbconvert_exporter": "python",
      "pygments_lexer": "ipython3",
      "version": "3.11.3"
    }
  },
  "nbformat": 4,
  "nbformat_minor": 0
}
