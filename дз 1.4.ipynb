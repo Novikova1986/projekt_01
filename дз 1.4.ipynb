{
  "cells": [
    {
      "cell_type": "code",
      "execution_count": 58,
      "metadata": {
        "colab": {
          "base_uri": "https://localhost:8080/"
        },
        "id": "wD_zAhLrkSgU",
        "outputId": "25a2b818-da58-4d9b-afa1-ea16b8f34050"
      },
      "outputs": [
        {
          "output_type": "stream",
          "name": "stdout",
          "text": [
            "100000110\n",
            "Кроссовки тип 3 (Adidas) 31 шт, стоимость 50747 руб\n",
            "100000146\n",
            "Мячик тип 2 (Adidas) 10 шт, стоимость 480 руб\n",
            "100000149\n",
            "Кепка тип 1 (Adidas) 32 шт, стоимость 9312 руб\n",
            "100000194\n",
            "Ремень тип 2 (Nike) 1 шт, стоимость 170 руб\n",
            "100000224\n",
            "Футболка тип 1 (Adidas) 50 шт, стоимость 20600 руб\n",
            "100000280\n",
            "Шапка тип 5 (Puma) 26 шт, стоимость 4550 руб\n"
          ]
        }
      ],
      "source": [
        "titles = {\n",
        "    'Кроссовки тип 3 (Adidas)': '100000110',\n",
        "    'Мячик тип 2 (Adidas)': '100000146',\n",
        "    'Кепка тип 1 (Adidas)': '100000149',\n",
        "    'Ремень тип 2 (Nike)': '100000194',\n",
        "    'Футболка тип 1 (Adidas)': '100000224',\n",
        "    'Шапка тип 5 (Puma)': '100000280',\n",
        "}\n",
        "# Товары находятся на складе и сохранены в виде словаря списков словарей,\n",
        "# которые отражают количество товаров в магазине по каждому коду.\n",
        "store = {\n",
        "    '100000110': [{'quantity': 31, 'price': 1637}],\n",
        "    '100000146': [ {'quantity': 4, 'price': 45}, {'quantity': 10, 'price': 48}],\n",
        "    '100000149': [ {'quantity': 28, 'price': 279}, {'quantity': 32, 'price': 291}],\n",
        "    '100000194': [{'quantity': 8, 'price': 220}, {'quantity': 1, 'price': 170}],\n",
        "    '100000224': [{'quantity': 61, 'price': 438}, {'quantity': 23, 'price': 302},  {'quantity': 50, 'price': 412}],\n",
        "    '100000280': [{'quantity': 26, 'price': 175}, ]\n",
        "}\n",
        "\n",
        "for title in titles:\n",
        "  title_id = titles[title]\n",
        "  print(title_id)\n",
        "  for item in store[title_id]:\n",
        "    quantity = item['quantity']\n",
        "    sum_price = item['quantity'] * item['price']\n",
        "  print(f'{title} {quantity} шт, стоимость {sum_price} руб')\n",
        "\n",
        "\n",
        "\n",
        "\n",
        "\n",
        "\n",
        "\n",
        "\n"
      ]
    },
    {
      "cell_type": "markdown",
      "metadata": {
        "id": "6yE1y_Wi--TR"
      },
      "source": [
        "# Новый раздел"
      ]
    },
    {
      "cell_type": "markdown",
      "metadata": {
        "id": "e1-tyL-W--zX"
      },
      "source": [
        "# Новый раздел"
      ]
    }
  ],
  "metadata": {
    "colab": {
      "provenance": []
    },
    "kernelspec": {
      "display_name": "Python 3",
      "name": "python3"
    },
    "language_info": {
      "name": "python"
    }
  },
  "nbformat": 4,
  "nbformat_minor": 0
}